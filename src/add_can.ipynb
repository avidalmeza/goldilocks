{
 "cells": [
  {
   "cell_type": "markdown",
   "metadata": {},
   "source": [
    "<h1>Goldilockσ: The “Just Right” Can</h1>\n",
    "<h3><b>Oak Ridge National Laboratory</b></h3>\n",
    "\n",
    "Goldilockσ calculates the cross-section for standard powder cans (flat plate, cylinder, and annular) available at the Spallation Neutron Source and High Flux Isotope Reactor. In the case of a new can of these geometries, users can use this Jupyter Notebook to edit the corresponding CSV file: [flatPlate.csv](/src/dict/flatPlate.csv), [cylindrical.csv](/src/dict/cylindrical.csv), and [annulus.csv](/src/dict/annulus.csv). Note that users still need to manually add their preferred can description to [canDescription.csv](/src/dict/canDescription.csv).\n",
    "\n",
    "<br>\n",
    "<b>New Flat Plate Can</b>\n",
    "<br>\n",
    "\n",
    "Required parameters:\n",
    "- **can_type** (str): Enter 'flatPlate', 'cyl', or 'annulus'\n",
    "- **can_material** (str): Enter element symbol (e.g., Al, V, Cu, etc.)\n",
    "- **sample_width_mm** (float): Width of sample in mm\n",
    "- **sample_height_mm** (float): Height of sample in mm\n",
    "- **can_thick_f1_mm** (float): Thickness of first face of can in mm\n",
    "- **can_thick_f2_mm** (float): Thickness of second face of can in mm\n",
    "- **sample_thick_mm** (float): Thickness of sample in mm"
   ]
  },
  {
   "cell_type": "code",
   "execution_count": null,
   "metadata": {},
   "outputs": [],
   "source": [
    "import os \n",
    "from add_can_dict import add_can_dict\n",
    "\n",
    "# Obtain current working directory filepath\n",
    "thisDir = os.getcwd() # /goldilocks/src\n",
    "file_path = os.path.join(thisDir, 'dict', 'flatPlate.csv')\n",
    "\n",
    "add_can_dict(file_path = file_path, can_type = 'flatPlate', can_material = 'Al', sample_thick_mm = 0.1, sample_height_mm = 50.0126, sample_width_mm = 50.0126, can_thick_f1_mm = 0.762, can_thick_f2_mm = 0.1016)"
   ]
  },
  {
   "cell_type": "markdown",
   "metadata": {},
   "source": [
    "<b>New Cylindrical Can</b>\n",
    "<br>\n",
    "\n",
    "Required parameters:\n",
    "- **can_type** (str): Enter 'flatPlate', 'cyl', or 'annulus'\n",
    "- **can_material** (str): Enter element symbol (e.g., Al, V, Cu, etc.)\n",
    "- **sample_inner_radius_mm** (float): Inner radius of sample in mm\n",
    "- **sample_height_mm** (float): Height of sample in mm\n",
    "- **can_outer_radius_mm** (float): Outer radius of can in mm"
   ]
  },
  {
   "cell_type": "code",
   "execution_count": null,
   "metadata": {},
   "outputs": [],
   "source": [
    "import os \n",
    "from add_can_dict import add_can_dict\n",
    "\n",
    "# Obtain current working directory filepath\n",
    "thisDir = os.getcwd() # /goldilocks/src\n",
    "file_path = os.path.join(thisDir, 'dict', 'cylindrical.csv')\n",
    "\n",
    "add_can_dict(file_path = file_path, can_type = 'cyl', can_material = 'Al', sample_inner_radius_mm = 3.175, sample_height_mm = 63.246, can_outer_radius_mm = 3.556)"
   ]
  },
  {
   "cell_type": "markdown",
   "metadata": {},
   "source": [
    "<b>New Annular Can</b>\n",
    "<br>\n",
    "\n",
    "Required parameters:\n",
    "- **can_type** (str): Enter 'flatPlate', 'cyl', or 'annulus'\n",
    "- **can_material** (str): Enter element symbol (e.g., Al, V, Cu, etc.)\n",
    "- **sample_outer_radius_mm** (float): Outer radius of sample in mm\n",
    "- **sample_inner_radius_mm** (float): Inner radius of sample in mm\n",
    "- **sample_height_mm** (float): Height of sample in mm\n",
    "- **can_outer_radius_mm** (float): Outer radius of cylindrical can in mm\n",
    "- **insert_inner_radius_mm** (float): Inner radius of annular insert in mm"
   ]
  },
  {
   "cell_type": "code",
   "execution_count": null,
   "metadata": {},
   "outputs": [],
   "source": [
    "import os \n",
    "from add_can_dict import add_can_dict\n",
    "\n",
    "# Obtain current working directory filepath\n",
    "thisDir = os.getcwd() # /goldilocks/src\n",
    "file_path = os.path.join(thisDir, 'dict', 'annulus.csv')\n",
    "\n",
    "add_can_dict(file_path = file_path, can_type = 'annulus', can_material = 'Al', sample_outer_radius_mm = 7.9375, sample_inner_radius_mm = 6.9342, sample_height_mm = 61.722, can_outer_radius_mm = 8.3185, insert_inner_radius_mm = 6.6802) "
   ]
  },
  {
   "cell_type": "markdown",
   "metadata": {},
   "source": [
    "<b>New Material</b>\n",
    "<br>\n",
    "\n",
    "If a new sample can is made of a different material, users can edit [material.csv](/src/dict/material.csv) by executing the code chunk below. Alternatively, users without a CIF can manually set the values of the lattice parameters and formula units in [material.csv](/src/dict/material.csv)."
   ]
  },
  {
   "cell_type": "code",
   "execution_count": null,
   "metadata": {},
   "outputs": [],
   "source": [
    "import os\n",
    "from add_material_dict import add_material_dict  \n",
    "\n",
    "# Obtain current working directory filepath\n",
    "thisDir = os.getcwd() # /goldilocks/src\n",
    "cif_filepath = os.path.join(thisDir, 'cif', 'V.cif')\n",
    "material_filepath = os.path.join(thisDir, 'dict', 'material.csv')\n",
    "\n",
    "add_material_dict(cif_filepath, material_filepath)"
   ]
  }
 ],
 "metadata": {
  "kernelspec": {
   "display_name": "goldilocks",
   "language": "python",
   "name": "python3"
  },
  "language_info": {
   "codemirror_mode": {
    "name": "ipython",
    "version": 3
   },
   "file_extension": ".py",
   "mimetype": "text/x-python",
   "name": "python",
   "nbconvert_exporter": "python",
   "pygments_lexer": "ipython3",
   "version": "3.10.14"
  }
 },
 "nbformat": 4,
 "nbformat_minor": 2
}
