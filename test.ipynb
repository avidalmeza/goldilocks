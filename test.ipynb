{
 "cells": [
  {
   "cell_type": "code",
   "execution_count": 1,
   "metadata": {},
   "outputs": [],
   "source": [
    "import numpy as np\n",
    "from scipy.integrate import quad\n",
    "from scipy import integrate\n",
    "\n",
    "# integrate.trapezoid\n",
    "# integrate.romberg # deprecated use trapezoid\n",
    "\n",
    "# Define integrand_cyl() function\n",
    "def integrand_cyl(x, paramwave):\n",
    "    # Extract inner can radius (`R1`) and zeta\n",
    "    R1 = paramwave[0]\n",
    "    zeta = paramwave[1]\n",
    "\n",
    "    dval = np.sqrt(R1**2 - x**2)\n",
    "    integrand = 1 - np.exp(-2 * dval/zeta)\n",
    "    return integrand\n",
    "\n",
    "# Define integral_cyl() function\n",
    "def integral_cyl(xs, unit_cell_volume, pack_fraction, R1):\n",
    "    zeta = unit_cell_volume/pack_fraction/xs # Note: packing efficiency? units?\n",
    "    paramwave = [R1, zeta]\n",
    "    int1, _ = quad(integrand_cyl, -R1, R1, args = (paramwave))\n",
    "    result = 100 * int1/(2 * R1)\n",
    "    return result\n",
    "\n",
    "# Define integrand_ann() function\n",
    "def integrand_ann(x, paramwave):\n",
    "    # Extract inner can radius (`R1`), zeta, and outer can radius (`R2`)\n",
    "    R1 = paramwave[0]\n",
    "    zeta = paramwave[1]\n",
    "    R2 = paramwave[2]\n",
    "\n",
    "    # If absolute value of `x` is less than inner can radius, then 0\n",
    "    if abs(x) < R1:\n",
    "        return 0\n",
    "    # If absolute value of `x` is greater than outer can radius, then 0\n",
    "    elif abs(x) > R2:\n",
    "        return 0\n",
    "    \n",
    "    dval = np.sqrt(R2**2 - x**2)\n",
    "    integrand = 1 - np.exp(-2 * dval/zeta)\n",
    "    return integrand\n",
    "\n",
    "# Define integral_ann() function\n",
    "def integral_ann(xs, unit_cell_volume, pack_fraction, R1, R2):\n",
    "    zeta = unit_cell_volume/pack_fraction/xs\n",
    "    paramwave = [R1, zeta, R2]\n",
    "    \n",
    "    int1, _ = quad(integrand_ann, -R2, R2, args = (paramwave))\n",
    "    result = 100 * int1/(2*R2)\n",
    "    return result          "
   ]
  },
  {
   "cell_type": "code",
   "execution_count": 2,
   "metadata": {},
   "outputs": [
    {
     "data": {
      "text/plain": [
       "9.070685056301812"
      ]
     },
     "execution_count": 2,
     "metadata": {},
     "output_type": "execute_result"
    }
   ],
   "source": [
    "integral_cyl(62.116,204.425,0.5,0.4)"
   ]
  },
  {
   "cell_type": "code",
   "execution_count": 3,
   "metadata": {},
   "outputs": [
    {
     "data": {
      "text/plain": [
       "9.070685056301805"
      ]
     },
     "execution_count": 3,
     "metadata": {},
     "output_type": "execute_result"
    }
   ],
   "source": [
    "integral_cyl(62.116,204.425,0.2,1)"
   ]
  },
  {
   "cell_type": "code",
   "execution_count": 4,
   "metadata": {},
   "outputs": [
    {
     "data": {
      "text/plain": [
       "21.04474243679236"
      ]
     },
     "execution_count": 4,
     "metadata": {},
     "output_type": "execute_result"
    }
   ],
   "source": [
    "integral_cyl(62.116,204.425,0.5,1)"
   ]
  },
  {
   "cell_type": "code",
   "execution_count": 6,
   "metadata": {},
   "outputs": [
    {
     "data": {
      "text/plain": [
       "21.04474243679236"
      ]
     },
     "execution_count": 6,
     "metadata": {},
     "output_type": "execute_result"
    }
   ],
   "source": [
    "integral_cyl(62.116,204.425,0.5,1)"
   ]
  },
  {
   "cell_type": "markdown",
   "metadata": {},
   "source": [
    "•print cylin_integralV3(62.116,204.425,0.5,0.4)\n",
    "  9.07064\n",
    "•print cylin_integralV3(62.116,204.425,0.5,1)\n",
    "  21.0446\n",
    "•print cylin_integralV3(62.116,204.425,0.2,1)\n",
    "  9.07064\n",
    "print annular_integralV3(62.116,204.425,0.5,0.2,0.4)\n",
    "  6.8933\n",
    "•print annular_integralV3(62.116,204.425,0.5,0.1,0.4)\n",
    "  8.53494\n",
    "•print annular_integralV3(62.116,204.425,0.5,0.0,0.4)\n",
    "  9.07064\n",
    " \n",
    "Trying different types of numerical integration.\n",
    "Trapezoidal integration (default).\n",
    "•print cylin_integralV3(62.116,204.425,0.5,1)\n",
    "  21.0446\n",
    " \n",
    "Romberg integration.\n",
    "•print cylin_integralV3(62.116,204.425,0.5,1)\n",
    "  21.0427\n",
    " \n",
    "Gaussian Quadrature integration.\n",
    "•print cylin_integralV3(62.116,204.425,0.5,1)\n",
    "  21.0447"
   ]
  },
  {
   "cell_type": "code",
   "execution_count": null,
   "metadata": {},
   "outputs": [],
   "source": []
  },
  {
   "cell_type": "markdown",
   "metadata": {},
   "source": [
    "# OLD CODE BELOW"
   ]
  },
  {
   "cell_type": "code",
   "execution_count": null,
   "metadata": {},
   "outputs": [],
   "source": [
    "# Define intcyl3() function\n",
    "def intcyl3(x, inner_radius_2, zeta):\n",
    "    dval = np.sqrt(inner_radius_2**2 - x**2)\n",
    "    return 1 - np.exp(-2 * dval / zeta)\n",
    "\n",
    "# Define cylin_integralV3() function\n",
    "def cylin_integralV3(depth, volume, pack_fraction, inner_radius):\n",
    "    zeta = volume / (pack_fraction * depth)\n",
    "    inner_radius_2 = inner_radius\n",
    "    \n",
    "    # Compute numerical integration of intcyl3() over the interval [-inner_radius, inner_radius]\n",
    "    integral_result, _ = quad(intcyl3, -inner_radius, inner_radius, args = (inner_radius_2, zeta))\n",
    "\n",
    "    int1 = 100 * integral_result\n",
    "    \n",
    "    return int1 / (2 * inner_radius)\n",
    "\n",
    "# Find percent of incident beam that is scattered (assume no absorption)\n",
    "percent_scatter_cyl = cylin_integralV3(depth = scatter_depth, volume = unit_cell_volume, pack_fraction = pack_fraction, inner_radius= can_inner_radius)\n",
    "\n",
    "# Find percent of incident beam that is absorbed (assume no scattering)\n",
    "percent_absorb_cyl = cylin_integralV3(depth = absorb_depth, volume = unit_cell_volume, pack_fraction = pack_fraction, inner_radius = can_inner_radius)\n"
   ]
  }
 ],
 "metadata": {
  "kernelspec": {
   "display_name": "mantid_env",
   "language": "python",
   "name": "python3"
  },
  "language_info": {
   "codemirror_mode": {
    "name": "ipython",
    "version": 3
   },
   "file_extension": ".py",
   "mimetype": "text/x-python",
   "name": "python",
   "nbconvert_exporter": "python",
   "pygments_lexer": "ipython3",
   "version": "3.10.14"
  }
 },
 "nbformat": 4,
 "nbformat_minor": 2
}
