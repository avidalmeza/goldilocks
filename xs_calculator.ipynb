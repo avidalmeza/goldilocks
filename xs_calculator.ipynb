{
 "cells": [
  {
   "cell_type": "markdown",
   "metadata": {},
   "source": [
    "<h1>Goldilockσ: The “Just Right” Can</h1>\n",
    "<h3><b>Oak Ridge National Laboratory</b></h3>\n",
    "\n",
    "Goldilockσ calculates the total scattering cross-section and absorption cross-section for all standard powder cans (flat plate, cylinder, and annular) available at the Spallation Neutron Source and High Flux Isotope Reactor. The calculator accepts either a CIF or a string with your molecular formula, with your given packing fraction and incident neutron energy in meV or incident neutron wavelength in angstrom. \n",
    "\n",
    "Refer to the [Mantid project's documentation](https://docs.mantidproject.org/v6.6.0/concepts/Materials.html) for the accepted format of a molecular formula. Each element in a molecular formula is followed by the number of the atoms for that element, specified without a hyphen, because each element is separated from other elements using a hyphen. Isotopes must be enclosed by parenthesis.\n",
    "\n",
    "<h4>Case 1: Crystallographic Information File</h4>"
   ]
  },
  {
   "cell_type": "code",
   "execution_count": null,
   "metadata": {},
   "outputs": [],
   "source": [
    "import os\n",
    "\n",
    "# Check directory\n",
    "# print(os.getcwd())\n",
    "# os.chdir('.../goldilocks/')\n",
    "\n",
    "from goldilocks import xs_calculator\n",
    "\n",
    "# Set sample filepath\n",
    "# E.g., src/cif/Ba2Co1La2O12Te2.cif\n",
    "thisDir = os.getcwd()\n",
    "sample = os.path.join(thisDir, 'src', 'cif', 'Ba2Co1La2O12Te2.cif')\n",
    "\n",
    "# Execute calculator\n",
    "xs_calculator(x = sample, neutron_energy = 100, pack_fraction = 0.50)"
   ]
  },
  {
   "cell_type": "markdown",
   "metadata": {},
   "source": [
    "<h4>Case 2: Molecular Formula</h4>"
   ]
  },
  {
   "cell_type": "code",
   "execution_count": null,
   "metadata": {},
   "outputs": [],
   "source": [
    "import os\n",
    "\n",
    "# Check directory\n",
    "# print(os.getcwd())\n",
    "# os.chdir('.../goldilocks/')\n",
    "\n",
    "from goldilocks import xs_calculator\n",
    "\n",
    "sample = 'Ba2-Co1-La2-O12-Te2'\n",
    "a = 5.693\n",
    "b = 5.693\n",
    "c = 27.585\n",
    "alpha = 90\n",
    "beta = 90\n",
    "gamma = 120\n",
    "Z_param = 3\n",
    "\n",
    "# Execute calculator\n",
    "xs_calculator(x = sample, neutron_energy = 100, pack_fraction = 0.50, Z_param = Z_param, a = a, b = b, c = c, alpha = alpha, beta = beta, gamma = gamma)\n"
   ]
  },
  {
   "cell_type": "markdown",
   "metadata": {},
   "source": [
    "<h4>Case 3: New Molecule of Compound</h4>"
   ]
  },
  {
   "cell_type": "code",
   "execution_count": null,
   "metadata": {},
   "outputs": [],
   "source": [
    "import os\n",
    "\n",
    "# Check directory\n",
    "# print(os.getcwd())\n",
    "# os.chdir('.../goldilocks/')\n",
    "\n",
    "from goldilocks import xs_calculator\n",
    "\n",
    "sample = 'Ba2-Co1-La2-O12-Te2'\n",
    "\n",
    "# Execute calculator\n",
    "xs_calculator(x = sample, neutron_energy = 100, pack_fraction = 0.50, density = 7.5)"
   ]
  }
 ],
 "metadata": {
  "kernelspec": {
   "display_name": "mantid_env",
   "language": "python",
   "name": "python3"
  },
  "language_info": {
   "codemirror_mode": {
    "name": "ipython",
    "version": 3
   },
   "file_extension": ".py",
   "mimetype": "text/x-python",
   "name": "python",
   "nbconvert_exporter": "python",
   "pygments_lexer": "ipython3",
   "version": "3.10.14"
  }
 },
 "nbformat": 4,
 "nbformat_minor": 2
}
