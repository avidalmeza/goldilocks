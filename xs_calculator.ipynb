{
 "cells": [
  {
   "cell_type": "markdown",
   "metadata": {},
   "source": [
    "<h1>Goldilockσ: The “Just Right” Can</h1>\n",
    "<h3><b>Oak Ridge National Laboratory</b></h3>\n",
    "\n",
    "Lorem ipsum dolor sit amet, consectetur adipiscing elit. Nam rhoncus ultrices enim vel scelerisque. Nullam eu tincidunt tellus, eu ultricies dolor. Lorem ipsum dolor sit amet, consectetur adipiscing elit. Aenean porttitor lorem leo, id sodales augue scelerisque eu. Sed maximus ipsum ac eros accumsan, ac dignissim nulla euismod. Donec et est pulvinar, eleifend dolor sit amet, vestibulum turpis. Quisque cursus est sit amet varius tincidunt. Donec vitae ultrices nulla. Integer ac mauris venenatis, sagittis elit nec, sollicitudin mauris. Curabitur a ex accumsan, scelerisque leo sit amet, euismod velit. Aenean blandit velit eget iaculis pulvinar. Maecenas leo mauris, pellentesque sed convallis at, auctor vitae ligula. Pellentesque habitant morbi tristique senectus et netus et malesuada fames ac turpis egestas. Nunc suscipit ex eu turpis venenatis, sed dictum dui pellentesque. Aenean vitae nisi sed quam suscipit ultricies. In hac habitasse platea dictumst. \n",
    "\n",
    "<h4>Case 1: Crystallographic Information File</h4>"
   ]
  },
  {
   "cell_type": "code",
   "execution_count": null,
   "metadata": {},
   "outputs": [],
   "source": [
    "import os\n",
    "\n",
    "# Check directory\n",
    "# print(os.getcwd())\n",
    "# os.chdir('.../goldilocks/')\n",
    "\n",
    "from goldilocks import xs_calculator\n",
    "\n",
    "# Set sample filepath\n",
    "# E.g., src/cif/Ba2Co1La2O12Te2.cif\n",
    "thisDir = os.getcwd()\n",
    "sample = os.path.join(thisDir, 'src', 'cif', 'Ba2Co1La2O12Te2.cif')\n",
    "\n",
    "# Execute calculator\n",
    "xs_calculator(x = sample, neutron_energy = 100, pack_fraction = 0.50)"
   ]
  },
  {
   "cell_type": "markdown",
   "metadata": {},
   "source": [
    "<h4>Case 2: Molecular Formula</h4>"
   ]
  },
  {
   "cell_type": "code",
   "execution_count": null,
   "metadata": {},
   "outputs": [],
   "source": [
    "import os\n",
    "\n",
    "# Check directory\n",
    "# print(os.getcwd())\n",
    "# os.chdir('.../goldilocks/')\n",
    "\n",
    "from goldilocks import xs_calculator\n",
    "\n",
    "sample = 'Ba2Co1La2O12Te2.cif'\n",
    "a = 5.693\n",
    "b = 5.693\n",
    "c = 27.585\n",
    "alpha = 90\n",
    "beta = 90\n",
    "gamma = 120\n",
    "Z_param = 3\n",
    "\n",
    "# Execute calculator\n",
    "xs_calculator(x = sample, neutron_energy = 100, pack_fraction = 0.50, Z_param = Z_param, a = a, b = b, c = c, alpha = alpha, beta = beta, gamma = gamma)\n"
   ]
  }
 ],
 "metadata": {
  "kernelspec": {
   "display_name": "mantid_env",
   "language": "python",
   "name": "python3"
  },
  "language_info": {
   "codemirror_mode": {
    "name": "ipython",
    "version": 3
   },
   "file_extension": ".py",
   "mimetype": "text/x-python",
   "name": "python",
   "nbconvert_exporter": "python",
   "pygments_lexer": "ipython3",
   "version": "3.10.14"
  }
 },
 "nbformat": 4,
 "nbformat_minor": 2
}
