{
 "cells": [
  {
   "cell_type": "markdown",
   "metadata": {},
   "source": [
    "<h1>Goldilockσ: The “Just Right” Can</h1>\n",
    "<h3><b>Oak Ridge National Laboratory</b></h3>\n",
    "\n",
    "Goldilockσ calculates the total scattering and absorption cross-sections for all standard powder cans (flat plate, cylinder, and annular) available at the Spallation Neutron Source and High Flux Isotope Reactor. It provides a systematic and reproducible way to decide which can is the best can for neutron scattering measurements. If there is too little scattering, the experiment will require too much time. If there is too much scattering, the measurement will contain distortions in the measured cross-section due to multiple scattering. At very long wavelengths, for certain materials, the scattering from the sample environment and sample can will deplete the beam and make measurements more lengthy.\n",
    "\n",
    "This notebook provides examples of the three ways the calculation can be evaluated.\n",
    "\n",
    "- **Case 1: Crystallographic Information File**, where you have a CIF and packing fraction\n",
    "- **Case 2: Molecular Formula**, where you have a formula, lattice parameters, formula units per unit cell, and packing fraction\n",
    "- **Case 3: New Moleculue or Compound**, where one has a formula and density\n",
    "\n",
    "The default value for incident neutron energy is 14.7 meV and the neutron wavelength is 2.359 Å. Refer to the [documentation](/documentation.md) for the calculator inputs/outputs and use guidelines. Note, the CIF for the examples below can be found under cif/ folder. \n",
    "\n",
    "For the molecular formula, refer to the [Mantid project's documentation](https://docs.mantidproject.org/v6.6.0/concepts/Materials.html) for the accepted format. Each element in a molecular formula is followed by the number of atoms for that element, specified without a hyphen because each element is separated from other elements using a hyphen. Isotopes must be enclosed by parenthesis.\n",
    "\n",
    "<h4>Case 1: Crystallographic Information File</h4>\n",
    "\n",
    "1. Enter sample with filepath to CIF\n",
    "2. Set incident neutron energy or wavelength (optional, default will be used)\n",
    "3. Set the packing fraction of the sample (optional, default is 1.0)"
   ]
  },
  {
   "cell_type": "code",
   "execution_count": null,
   "metadata": {},
   "outputs": [],
   "source": [
    "import os\n",
    "\n",
    "# Check directory\n",
    "# print(os.getcwd())\n",
    "# os.chdir('.../goldilocks/')\n",
    "\n",
    "from goldilocks import xs_calculator\n",
    "\n",
    "# Set sample filepath\n",
    "# E.g., src/cif/Ba2Co1La2O12Te2.cif\n",
    "thisDir = os.getcwd()\n",
    "sample = os.path.join(thisDir, 'src', 'cif', 'Ba2Co1La2O12Te2.cif')\n",
    "\n",
    "# Execute calculator\n",
    "xs_calculator(x = sample, neutron_energy = 100, pack_fraction = 0.50)"
   ]
  },
  {
   "cell_type": "markdown",
   "metadata": {},
   "source": [
    "<h4>Case 2: Molecular Formula</h4>\n",
    "\n",
    "1. Enter sample with string\n",
    "    - Note: Enter the number of atoms of each nuclei that is within the bounds of the lattice constants listed\n",
    "    - Isotopes can be listed using parentheses as '(Ba132)5.9-(Ba130)0.1-Co3-La6-O36-Te6'\n",
    "\n",
    "2. Enter lattice constants (a, b, c) in Angstroms\n",
    "3. Enter lattice angles (alpha, beta, gamma) in degrees\n",
    "4. Enter the number of formula units (Z)\n",
    "5. Set incident neutron energy or wavelength (optional, default will be used)\n",
    "6. Set the packing fraction of the sample (optional, default is 1.0)"
   ]
  },
  {
   "cell_type": "code",
   "execution_count": null,
   "metadata": {},
   "outputs": [],
   "source": [
    "import os\n",
    "\n",
    "# Check directory\n",
    "# print(os.getcwd())\n",
    "# os.chdir('.../goldilocks/')\n",
    "\n",
    "from goldilocks import xs_calculator\n",
    "\n",
    "sample = 'Ba2-Co1-La2-O12-Te2'\n",
    "a = 5.693\n",
    "b = 5.693\n",
    "c = 27.585\n",
    "alpha = 90\n",
    "beta = 90\n",
    "gamma = 120\n",
    "Z_param = 3\n",
    "\n",
    "# Execute calculator\n",
    "xs_calculator(x = sample, neutron_energy = 100, pack_fraction = 0.50, Z_param = Z_param, a = a, b = b, c = c, alpha = alpha, beta = beta, gamma = gamma)"
   ]
  },
  {
   "cell_type": "markdown",
   "metadata": {},
   "source": [
    "<h4>Case 3: New Molecule or Compound</h4>\n",
    "\n",
    "1. Enter sample with string\n",
    "    - For example, `sample = 'Ba2-Co1-La2-O12-Te2'` or `sample = 'Ba4-Co2-La4-O24-Te4'` or `sample = 'Ba6-Co3-La6-O36-Te6'`\n",
    "2. Set sample density in grams per cubic centimeter (g/cc)\n",
    "3. Set incident neutron energy or wavelength (optional, default will be used)\n",
    "4. Set the packing fraction of the sample (optional, default is 1.0)\n",
    "\n",
    "\n",
    "Note: Each of the samples corresponds to the formula unit in the calculation and one will obtain the identical percent scattering and percent absorption values. The number of moles of each of these formula units and the cross-sections per formula unit will be different. For `sample = 'Ba6-Co3-La6-O36-Te6'`, with half the calculated sample density, will result in values of cross-section per formula unit that match the examples given for Case 1 and Case 2 above; however, the calculated unit cell volume, the molecular mass (g/mol/fu/Z), and the calculated density will not match Case 1 and Case 2. Why? Because Goldilockσ uses the sample density to account for the intrinsic packing fraction."
   ]
  },
  {
   "cell_type": "code",
   "execution_count": null,
   "metadata": {},
   "outputs": [],
   "source": [
    "import os\n",
    "\n",
    "# Check directory\n",
    "# print(os.getcwd())\n",
    "# os.chdir('.../goldilocks/')\n",
    "\n",
    "from goldilocks import xs_calculator\n",
    "\n",
    "sample = 'Ba2-Co1-La2-O12-Te2'\n",
    "\n",
    "# Execute calculator\n",
    "xs_calculator(x = sample, neutron_energy = 100, pack_fraction = 1.0, density = 3.4055)"
   ]
  }
 ],
 "metadata": {
  "kernelspec": {
   "display_name": "mantid_env",
   "language": "python",
   "name": "python3"
  },
  "language_info": {
   "codemirror_mode": {
    "name": "ipython",
    "version": 3
   },
   "file_extension": ".py",
   "mimetype": "text/x-python",
   "name": "python",
   "nbconvert_exporter": "python",
   "pygments_lexer": "ipython3",
   "version": "3.10.14"
  }
 },
 "nbformat": 4,
 "nbformat_minor": 2
}
